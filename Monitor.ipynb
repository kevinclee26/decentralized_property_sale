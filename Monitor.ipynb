{
 "cells": [
  {
   "cell_type": "code",
   "execution_count": 1,
   "id": "90078d59-4b78-4b42-b2e5-919a755d1dd7",
   "metadata": {},
   "outputs": [],
   "source": [
    "from web3 import Web3"
   ]
  },
  {
   "cell_type": "code",
   "execution_count": 2,
   "id": "2b75c062-5318-48dd-8131-942618ebb2f7",
   "metadata": {},
   "outputs": [],
   "source": [
    "# Connect to Ganache\n",
    "w3=Web3(Web3.HTTPProvider('http://127.0.0.1:7545'))"
   ]
  },
  {
   "cell_type": "code",
   "execution_count": 5,
   "id": "62eff711-6a67-4067-a658-7e8945665888",
   "metadata": {},
   "outputs": [
    {
     "data": {
      "text/plain": [
       "0"
      ]
     },
     "execution_count": 5,
     "metadata": {},
     "output_type": "execute_result"
    }
   ],
   "source": [
    "# Get contract\n",
    "contract_address='0xaF3ed2F54D70BbB7B239830CC5cEA19E9F2Bb998'\n",
    "w3.eth.get_balance(contract_address)"
   ]
  },
  {
   "cell_type": "code",
   "execution_count": 7,
   "id": "547cdc78-c6cf-4cb8-924b-cadd105a0583",
   "metadata": {},
   "outputs": [
    {
     "data": {
      "text/plain": [
       "99998346280000000000"
      ]
     },
     "execution_count": 7,
     "metadata": {},
     "output_type": "execute_result"
    }
   ],
   "source": [
    "buyer_address='0xed6802b782454C08d07913435Dd74b87600f619E'\n",
    "w3.eth.get_balance(buyer_address)"
   ]
  },
  {
   "cell_type": "code",
   "execution_count": null,
   "id": "220479a5-49bd-433c-aa32-58a7b49b6467",
   "metadata": {},
   "outputs": [],
   "source": []
  },
  {
   "cell_type": "code",
   "execution_count": null,
   "id": "97af00e9-dd5a-4873-9871-4666b687318e",
   "metadata": {},
   "outputs": [],
   "source": []
  },
  {
   "cell_type": "code",
   "execution_count": null,
   "id": "5e45603e-ee4f-4c19-96e6-1a2a649f3558",
   "metadata": {},
   "outputs": [],
   "source": []
  },
  {
   "cell_type": "code",
   "execution_count": null,
   "id": "c5495187-ff26-413a-8173-9763c3d75897",
   "metadata": {},
   "outputs": [],
   "source": []
  }
 ],
 "metadata": {
  "kernelspec": {
   "display_name": "Python 3 (ipykernel)",
   "language": "python",
   "name": "python3"
  },
  "language_info": {
   "codemirror_mode": {
    "name": "ipython",
    "version": 3
   },
   "file_extension": ".py",
   "mimetype": "text/x-python",
   "name": "python",
   "nbconvert_exporter": "python",
   "pygments_lexer": "ipython3",
   "version": "3.7.11"
  }
 },
 "nbformat": 4,
 "nbformat_minor": 5
}
