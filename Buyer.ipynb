{
 "cells": [
  {
   "cell_type": "code",
   "execution_count": 11,
   "id": "90078d59-4b78-4b42-b2e5-919a755d1dd7",
   "metadata": {},
   "outputs": [],
   "source": [
    "from web3 import Web3"
   ]
  },
  {
   "cell_type": "code",
   "execution_count": 12,
   "id": "2b75c062-5318-48dd-8131-942618ebb2f7",
   "metadata": {},
   "outputs": [],
   "source": [
    "# Connect to Ganache\n",
    "w3=Web3(Web3.HTTPProvider('http://127.0.0.1:7545'))"
   ]
  },
  {
   "cell_type": "code",
   "execution_count": 13,
   "id": "79ba1bc0-d226-4950-9d8a-e218163a33e9",
   "metadata": {},
   "outputs": [],
   "source": [
    "# Load ABI\n",
    "import json\n",
    "with open('property_sale_abi.txt') as f:\n",
    "    abi=json.load(f)"
   ]
  },
  {
   "cell_type": "code",
   "execution_count": 14,
   "id": "7824919d-1819-4a14-8e88-841bf82fa085",
   "metadata": {},
   "outputs": [],
   "source": [
    "# Get contract\n",
    "contract_address='0xaF3ed2F54D70BbB7B239830CC5cEA19E9F2Bb998'\n",
    "contract=w3.eth.contract(address=contract_address, abi=abi)"
   ]
  },
  {
   "cell_type": "code",
   "execution_count": 15,
   "id": "b3d11e52-d51f-4d39-812f-8e614a642f20",
   "metadata": {},
   "outputs": [
    {
     "data": {
      "text/plain": [
       "False"
      ]
     },
     "metadata": {},
     "output_type": "display_data"
    },
    {
     "data": {
      "text/plain": [
       "'1 Wall St.'"
      ]
     },
     "metadata": {},
     "output_type": "display_data"
    }
   ],
   "source": [
    "# Don't need to sign for viewer functions\n",
    "display(contract.functions.get_inspect_status().call())\n",
    "display(contract.functions.get_address().call())"
   ]
  },
  {
   "cell_type": "code",
   "execution_count": 16,
   "id": "6e6cb3c3-4e8d-4e07-915c-5f29152451e4",
   "metadata": {},
   "outputs": [
    {
     "data": {
      "text/plain": [
       "0"
      ]
     },
     "metadata": {},
     "output_type": "display_data"
    }
   ],
   "source": [
    "# Get application time\n",
    "buyer_address='0xed6802b782454C08d07913435Dd74b87600f619E'\n",
    "display(contract.functions.get_application_date(buyer_address).call())"
   ]
  },
  {
   "cell_type": "code",
   "execution_count": 19,
   "id": "30fe8bf3-741b-4868-8209-7923c2f5b08a",
   "metadata": {},
   "outputs": [
    {
     "data": {
      "text/plain": [
       "HexBytes('0x9e698d01d61fd758ab72505afb23f150b00938bdeccee3a75a41e15ebe9d7aa6')"
      ]
     },
     "execution_count": 19,
     "metadata": {},
     "output_type": "execute_result"
    }
   ],
   "source": [
    "# Apply\n",
    "buyer_private_key='e915625cb8a84eaa1c5a0727b12c8b1a6209bf0de8be439e5e91d69c69753913'\n",
    "\n",
    "payload={'from': buyer_address, 'nonce': 1}\n",
    "\n",
    "raw_apply_txn=contract.functions.apply_property().buildTransaction(payload)\n",
    "signed_txn=w3.eth.account.signTransaction(raw_apply_txn, private_key=buyer_private_key)\n",
    "w3.eth.sendRawTransaction(signed_txn.rawTransaction)"
   ]
  },
  {
   "cell_type": "code",
   "execution_count": 20,
   "id": "482ce7bf-36ba-4ed0-8650-d93f6f13bcd0",
   "metadata": {},
   "outputs": [
    {
     "data": {
      "text/plain": [
       "1645165026"
      ]
     },
     "metadata": {},
     "output_type": "display_data"
    }
   ],
   "source": [
    "# Get application date\n",
    "display(contract.functions.get_application_date(buyer_address).call())\n",
    "\n",
    "# Doesn't work because a setter function requires signatures"
   ]
  }
 ],
 "metadata": {
  "kernelspec": {
   "display_name": "Python 3 (ipykernel)",
   "language": "python",
   "name": "python3"
  },
  "language_info": {
   "codemirror_mode": {
    "name": "ipython",
    "version": 3
   },
   "file_extension": ".py",
   "mimetype": "text/x-python",
   "name": "python",
   "nbconvert_exporter": "python",
   "pygments_lexer": "ipython3",
   "version": "3.7.11"
  }
 },
 "nbformat": 4,
 "nbformat_minor": 5
}
