{
 "cells": [
  {
   "cell_type": "code",
   "execution_count": 1,
   "id": "90078d59-4b78-4b42-b2e5-919a755d1dd7",
   "metadata": {},
   "outputs": [],
   "source": [
    "from web3 import Web3"
   ]
  },
  {
   "cell_type": "code",
   "execution_count": 2,
   "id": "2b75c062-5318-48dd-8131-942618ebb2f7",
   "metadata": {},
   "outputs": [],
   "source": [
    "# Connect to Ganache\n",
    "w3=Web3(Web3.HTTPProvider('http://127.0.0.1:7545'))"
   ]
  },
  {
   "cell_type": "code",
   "execution_count": 3,
   "id": "79ba1bc0-d226-4950-9d8a-e218163a33e9",
   "metadata": {},
   "outputs": [],
   "source": [
    "# Load ABI\n",
    "import json\n",
    "with open('property_sale_abi.txt') as f:\n",
    "    abi=json.load(f)"
   ]
  },
  {
   "cell_type": "code",
   "execution_count": 4,
   "id": "7824919d-1819-4a14-8e88-841bf82fa085",
   "metadata": {},
   "outputs": [],
   "source": [
    "# Get contract\n",
    "contract_address='0xaF3ed2F54D70BbB7B239830CC5cEA19E9F2Bb998'\n",
    "contract=w3.eth.contract(address=contract_address, abi=abi)"
   ]
  },
  {
   "cell_type": "code",
   "execution_count": 5,
   "id": "b3d11e52-d51f-4d39-812f-8e614a642f20",
   "metadata": {},
   "outputs": [
    {
     "data": {
      "text/plain": [
       "False"
      ]
     },
     "metadata": {},
     "output_type": "display_data"
    },
    {
     "data": {
      "text/plain": [
       "'1 Wall St.'"
      ]
     },
     "metadata": {},
     "output_type": "display_data"
    }
   ],
   "source": [
    "# Don't need to sign for viewer functions\n",
    "display(contract.functions.get_inspect_status().call())\n",
    "display(contract.functions.get_address().call())"
   ]
  },
  {
   "cell_type": "code",
   "execution_count": 6,
   "id": "d67cdd7a-a4b2-47d8-b2cb-feff039700c5",
   "metadata": {},
   "outputs": [],
   "source": [
    "# Check credit"
   ]
  },
  {
   "cell_type": "code",
   "execution_count": 8,
   "id": "482ce7bf-36ba-4ed0-8650-d93f6f13bcd0",
   "metadata": {},
   "outputs": [
    {
     "data": {
      "text/plain": [
       "HexBytes('0xc710455236b7d0634197b8c16866969a124c6eef5194b7aacab926eefdb21379')"
      ]
     },
     "execution_count": 8,
     "metadata": {},
     "output_type": "execute_result"
    }
   ],
   "source": [
    "# Approve buyer\n",
    "lender_address='0x8F0698E06DE4d148b3860474529B6c951c197721'\n",
    "lender_private_key='4d2ab22cb5b760339a72519420d80dd35947097c51a19f3eb963f10279db073e'\n",
    "buyer_address='0xed6802b782454C08d07913435Dd74b87600f619E'\n",
    "\n",
    "payload={'from': lender_address, 'nonce': 0, 'value': 101}\n",
    "\n",
    "raw_approve_txn=contract.functions.lender_approve(buyer_address).buildTransaction(payload)\n",
    "signed_txn=w3.eth.account.signTransaction(raw_approve_txn, private_key=lender_private_key)\n",
    "w3.eth.sendRawTransaction(signed_txn.rawTransaction)"
   ]
  },
  {
   "cell_type": "code",
   "execution_count": 16,
   "id": "c5244222-2d40-4b0d-b37e-7a4d4b088cb4",
   "metadata": {},
   "outputs": [
    {
     "data": {
      "text/plain": [
       "HexBytes('0xb798739fce417ac285c6c4964f7366dc90f7bdd895b0add4fb53ca2740c3993b')"
      ]
     },
     "execution_count": 16,
     "metadata": {},
     "output_type": "execute_result"
    }
   ],
   "source": [
    "# Sign off on inspection on contract\n",
    "inspector_address='0x43fA4e1b9250bD070BdDb0444b19386e98c0fbEF'\n",
    "inspector_private_key='8bd456af4fc381c594ee53cdef1fedde15ec8a3f8256edf7f6f13fda1a369b9a'\n",
    "\n",
    "payload={'from': inspector_address, 'nonce': 0}\n",
    "\n",
    "raw_inspect_txn=contract.functions.inspect().buildTransaction(payload)\n",
    "signed_txn=w3.eth.account.signTransaction(raw_inspect_txn, private_key=inspector_private_key)\n",
    "w3.eth.sendRawTransaction(signed_txn.rawTransaction)"
   ]
  },
  {
   "cell_type": "code",
   "execution_count": 17,
   "id": "b00ce1ee-45a8-4dfc-8fa0-643e78442f04",
   "metadata": {},
   "outputs": [
    {
     "data": {
      "text/plain": [
       "True"
      ]
     },
     "metadata": {},
     "output_type": "display_data"
    },
    {
     "data": {
      "text/plain": [
       "'1 Wall St'"
      ]
     },
     "metadata": {},
     "output_type": "display_data"
    }
   ],
   "source": [
    "# Don't need to sign for viewer functions\n",
    "display(contract.functions.get_inspect_status().call())\n",
    "display(contract.functions.get_address().call())"
   ]
  }
 ],
 "metadata": {
  "kernelspec": {
   "display_name": "Python 3 (ipykernel)",
   "language": "python",
   "name": "python3"
  },
  "language_info": {
   "codemirror_mode": {
    "name": "ipython",
    "version": 3
   },
   "file_extension": ".py",
   "mimetype": "text/x-python",
   "name": "python",
   "nbconvert_exporter": "python",
   "pygments_lexer": "ipython3",
   "version": "3.7.11"
  }
 },
 "nbformat": 4,
 "nbformat_minor": 5
}
