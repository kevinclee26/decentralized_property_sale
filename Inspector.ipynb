{
 "cells": [
  {
   "cell_type": "code",
   "execution_count": 18,
   "id": "90078d59-4b78-4b42-b2e5-919a755d1dd7",
   "metadata": {},
   "outputs": [],
   "source": [
    "from web3 import Web3"
   ]
  },
  {
   "cell_type": "code",
   "execution_count": 19,
   "id": "2b75c062-5318-48dd-8131-942618ebb2f7",
   "metadata": {},
   "outputs": [],
   "source": [
    "# Connect to Ganache\n",
    "w3=Web3(Web3.HTTPProvider('http://127.0.0.1:7545'))"
   ]
  },
  {
   "cell_type": "code",
   "execution_count": 22,
   "id": "79ba1bc0-d226-4950-9d8a-e218163a33e9",
   "metadata": {},
   "outputs": [],
   "source": [
    "# Load ABI\n",
    "import json\n",
    "with open('property_sale_abi.txt') as f:\n",
    "    abi=json.load(f)"
   ]
  },
  {
   "cell_type": "code",
   "execution_count": 23,
   "id": "7824919d-1819-4a14-8e88-841bf82fa085",
   "metadata": {},
   "outputs": [],
   "source": [
    "# Get contract\n",
    "contract_address='0xaF3ed2F54D70BbB7B239830CC5cEA19E9F2Bb998'\n",
    "contract=w3.eth.contract(address=contract_address, abi=abi)"
   ]
  },
  {
   "cell_type": "code",
   "execution_count": 24,
   "id": "b3d11e52-d51f-4d39-812f-8e614a642f20",
   "metadata": {},
   "outputs": [
    {
     "data": {
      "text/plain": [
       "False"
      ]
     },
     "metadata": {},
     "output_type": "display_data"
    },
    {
     "data": {
      "text/plain": [
       "'1 Wall St.'"
      ]
     },
     "metadata": {},
     "output_type": "display_data"
    }
   ],
   "source": [
    "# Don't need to sign for viewer functions\n",
    "display(contract.functions.get_inspect_status().call())\n",
    "display(contract.functions.get_address().call())"
   ]
  },
  {
   "cell_type": "code",
   "execution_count": 25,
   "id": "30fe8bf3-741b-4868-8209-7923c2f5b08a",
   "metadata": {},
   "outputs": [],
   "source": [
    "# Inspect property\n",
    "# ..."
   ]
  },
  {
   "cell_type": "code",
   "execution_count": 26,
   "id": "482ce7bf-36ba-4ed0-8650-d93f6f13bcd0",
   "metadata": {},
   "outputs": [
    {
     "data": {
      "text/plain": [
       "[]"
      ]
     },
     "execution_count": 26,
     "metadata": {},
     "output_type": "execute_result"
    }
   ],
   "source": [
    "# Sign off on inspection on contract\n",
    "contract.functions.inspect().call()\n",
    "\n",
    "# Doesn't work because a setter function requires signatures"
   ]
  },
  {
   "cell_type": "code",
   "execution_count": 28,
   "id": "c5244222-2d40-4b0d-b37e-7a4d4b088cb4",
   "metadata": {},
   "outputs": [
    {
     "data": {
      "text/plain": [
       "HexBytes('0x9257d78a09a3785ee4a907bee3f62e910bb284615142e1fa0641ffdc69b6bfae')"
      ]
     },
     "execution_count": 28,
     "metadata": {},
     "output_type": "execute_result"
    }
   ],
   "source": [
    "# Sign off on inspection on contract\n",
    "inspector_address='0x43fA4e1b9250bD070BdDb0444b19386e98c0fbEF'\n",
    "inspector_private_key='8bd456af4fc381c594ee53cdef1fedde15ec8a3f8256edf7f6f13fda1a369b9a'\n",
    "\n",
    "payload={'from': inspector_address, 'nonce': 1}\n",
    "\n",
    "raw_inspect_txn=contract.functions.inspect().buildTransaction(payload)\n",
    "signed_txn=w3.eth.account.signTransaction(raw_inspect_txn, private_key=inspector_private_key)\n",
    "w3.eth.sendRawTransaction(signed_txn.rawTransaction)"
   ]
  },
  {
   "cell_type": "code",
   "execution_count": 29,
   "id": "b00ce1ee-45a8-4dfc-8fa0-643e78442f04",
   "metadata": {},
   "outputs": [
    {
     "data": {
      "text/plain": [
       "True"
      ]
     },
     "metadata": {},
     "output_type": "display_data"
    },
    {
     "data": {
      "text/plain": [
       "'1 Wall St.'"
      ]
     },
     "metadata": {},
     "output_type": "display_data"
    }
   ],
   "source": [
    "# Don't need to sign for viewer functions\n",
    "display(contract.functions.get_inspect_status().call())\n",
    "display(contract.functions.get_address().call())"
   ]
  }
 ],
 "metadata": {
  "kernelspec": {
   "display_name": "Python 3 (ipykernel)",
   "language": "python",
   "name": "python3"
  },
  "language_info": {
   "codemirror_mode": {
    "name": "ipython",
    "version": 3
   },
   "file_extension": ".py",
   "mimetype": "text/x-python",
   "name": "python",
   "nbconvert_exporter": "python",
   "pygments_lexer": "ipython3",
   "version": "3.7.11"
  }
 },
 "nbformat": 4,
 "nbformat_minor": 5
}
